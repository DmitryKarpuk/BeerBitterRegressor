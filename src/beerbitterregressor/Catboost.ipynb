{
 "cells": [
  {
   "cell_type": "markdown",
   "metadata": {},
   "source": [
    "# Catboost"
   ]
  },
  {
   "cell_type": "markdown",
   "metadata": {},
   "source": [
    "CatBoost is an algorithm for gradient boosting on decision trees. It  is used for search, recommendation systems, personal assistant, self-driving cars, weather prediction and many other tasks at Yandex and in other companies, including CERN, Cloudflare, Careem taxi. It is in open-source and can be used by anyone."
   ]
  },
  {
   "cell_type": "code",
   "execution_count": 100,
   "metadata": {},
   "outputs": [],
   "source": [
    "import pandas as pd\n",
    "import numpy as np\n",
    "import random\n",
    "from sklearn.model_selection import train_test_split\n",
    "from preprocessing import clean_data, add_new_features\n",
    "from catboost import CatBoostRegressor, cv, Pool"
   ]
  },
  {
   "cell_type": "code",
   "execution_count": 101,
   "metadata": {},
   "outputs": [],
   "source": [
    "SEED = 42"
   ]
  },
  {
   "cell_type": "code",
   "execution_count": 102,
   "metadata": {},
   "outputs": [],
   "source": [
    "random.seed(SEED)\n",
    "np.random.seed(SEED)\n",
    "\n",
    "def rmse(y_true, y_pred):\n",
    "  se = (y_true - y_pred) ** 2\n",
    "  mse = se.mean()\n",
    "  rmse = np.sqrt(mse)\n",
    "  return rmse"
   ]
  },
  {
   "cell_type": "markdown",
   "metadata": {},
   "source": [
    "## Prepare data"
   ]
  },
  {
   "cell_type": "code",
   "execution_count": 67,
   "metadata": {},
   "outputs": [],
   "source": [
    "data = pd.read_csv('../../data/beer_train.csv', index_col=['id'])"
   ]
  },
  {
   "cell_type": "code",
   "execution_count": 68,
   "metadata": {},
   "outputs": [],
   "source": [
    "df = clean_data(data)\n",
    "df = add_new_features(df)"
   ]
  },
  {
   "cell_type": "code",
   "execution_count": 69,
   "metadata": {},
   "outputs": [],
   "source": [
    "target = ['ibu']\n",
    "cat_features = ['available', 'glass']\n",
    "label_features = ['isOrganic']\n",
    "num_features = ['originalGravity',\n",
    "                'abv',\n",
    "                'srm',\n",
    "                'abv_mul_grav',\n",
    "                'abv_mul_srm',\n",
    "                'srm_div_abv',\n",
    "                'srm_mull_grav',\n",
    "                'srm_mull_grav_div_abv']"
   ]
  },
  {
   "cell_type": "code",
   "execution_count": 70,
   "metadata": {},
   "outputs": [],
   "source": [
    "train_features = cat_features + \\\n",
    "                 label_features + \\\n",
    "                 num_features"
   ]
  },
  {
   "cell_type": "markdown",
   "metadata": {},
   "source": [
    "Create train and val dataset"
   ]
  },
  {
   "cell_type": "code",
   "execution_count": 71,
   "metadata": {},
   "outputs": [],
   "source": [
    "df_train, df_val = train_test_split(df, test_size=0.2, random_state=SEED)\n",
    "X_train = df_train[train_features].reset_index(drop=True)\n",
    "X_val = df_val[train_features].reset_index(drop=True)"
   ]
  },
  {
   "cell_type": "code",
   "execution_count": 72,
   "metadata": {},
   "outputs": [],
   "source": [
    "y_train = df_train['ibu'].values\n",
    "y_val = df_val['ibu'].values"
   ]
  },
  {
   "cell_type": "markdown",
   "metadata": {},
   "source": [
    "In order to use catboost it's necessary to find indexes of categorical features."
   ]
  },
  {
   "cell_type": "code",
   "execution_count": 73,
   "metadata": {},
   "outputs": [],
   "source": [
    "cat_features_indices = [list(X_train.columns).index(i) for i in cat_features]"
   ]
  },
  {
   "cell_type": "code",
   "execution_count": 107,
   "metadata": {},
   "outputs": [],
   "source": [
    "train_pool = Pool(X_train, y_train, cat_features=cat_features_indices)\n",
    "val_pool = Pool(X_val, cat_features=cat_features_indices)"
   ]
  },
  {
   "cell_type": "markdown",
   "metadata": {},
   "source": [
    "## Feature Importances\n"
   ]
  },
  {
   "cell_type": "code",
   "execution_count": 75,
   "metadata": {},
   "outputs": [
    {
     "name": "stdout",
     "output_type": "stream",
     "text": [
      "Learning rate set to 0.052458\n",
      "0:\tlearn: 24.4825393\ttotal: 22.6ms\tremaining: 22.6s\n",
      "999:\tlearn: 12.7457132\ttotal: 22.9s\tremaining: 0us\n"
     ]
    }
   ],
   "source": [
    "model = CatBoostRegressor(verbose=1000, loss_function='RMSE', random_seed=SEED)\\\n",
    "                                                                .fit(train_pool)\n"
   ]
  },
  {
   "cell_type": "code",
   "execution_count": 76,
   "metadata": {},
   "outputs": [],
   "source": [
    "feature_importances = model.get_feature_importance(train_pool)\n",
    "feature_names = X_train.columns"
   ]
  },
  {
   "cell_type": "code",
   "execution_count": 77,
   "metadata": {},
   "outputs": [
    {
     "name": "stdout",
     "output_type": "stream",
     "text": [
      "originalGravity: 40.189\n",
      "abv_mul_grav: 11.016\n",
      "abv: 9.215\n",
      "srm_mull_grav: 7.273\n",
      "srm_mull_grav_div_abv: 6.719\n",
      "glass: 5.988\n",
      "abv_mul_srm: 5.95\n",
      "available: 5.641\n",
      "srm_div_abv: 4.26\n",
      "srm: 3.493\n",
      "isOrganic: 0.256\n"
     ]
    }
   ],
   "source": [
    "for score, name in sorted(zip(feature_importances, feature_names), reverse=True):\n",
    "    print(f'{name}: {round(score, 3)}')"
   ]
  },
  {
   "cell_type": "markdown",
   "metadata": {},
   "source": [
    "**The most important feature is originalGravity.**"
   ]
  },
  {
   "cell_type": "markdown",
   "metadata": {},
   "source": [
    "## Tuning hyperparameters"
   ]
  },
  {
   "cell_type": "code",
   "execution_count": 83,
   "metadata": {},
   "outputs": [],
   "source": [
    "model = CatBoostRegressor(verbose=1000, loss_function='RMSE')"
   ]
  },
  {
   "cell_type": "code",
   "execution_count": null,
   "metadata": {},
   "outputs": [],
   "source": [
    "grid = {'learning_rate': [0.03, 0.1, 0.5],\n",
    "        'depth': [4, 6, 10],\n",
    "        'l2_leaf_reg': [1, 3, 5, 7, 9],\n",
    "        'iterations': [500, 1000, 2000],\n",
    "        'random_seed': [SEED]}\n",
    "\n",
    "grid_search_result = model.grid_search(grid, train_pool)"
   ]
  },
  {
   "cell_type": "code",
   "execution_count": 92,
   "metadata": {},
   "outputs": [
    {
     "data": {
      "text/plain": [
       "{'depth': 10,\n",
       " 'random_seed': 42,\n",
       " 'l2_leaf_reg': 7,\n",
       " 'iterations': 500,\n",
       " 'learning_rate': 0.1}"
      ]
     },
     "execution_count": 92,
     "metadata": {},
     "output_type": "execute_result"
    }
   ],
   "source": [
    "best_params = grid_search_result['params'] \n",
    "best_params"
   ]
  },
  {
   "cell_type": "markdown",
   "metadata": {},
   "source": [
    "## Evaluation"
   ]
  },
  {
   "cell_type": "markdown",
   "metadata": {},
   "source": [
    "Now we would re-train our tuned model on all train data that we have"
   ]
  },
  {
   "cell_type": "code",
   "execution_count": 98,
   "metadata": {},
   "outputs": [
    {
     "name": "stdout",
     "output_type": "stream",
     "text": [
      "0:\tlearn: 23.8882264\ttotal: 54.5ms\tremaining: 27.2s\n",
      "499:\tlearn: 10.8383255\ttotal: 21.9s\tremaining: 0us\n"
     ]
    },
    {
     "data": {
      "text/plain": [
       "<catboost.core.CatBoostRegressor at 0x1b61f605040>"
      ]
     },
     "execution_count": 98,
     "metadata": {},
     "output_type": "execute_result"
    }
   ],
   "source": [
    "model.fit(train_pool)"
   ]
  },
  {
   "cell_type": "markdown",
   "metadata": {},
   "source": [
    "Let's see validation metric."
   ]
  },
  {
   "cell_type": "code",
   "execution_count": 109,
   "metadata": {},
   "outputs": [
    {
     "name": "stdout",
     "output_type": "stream",
     "text": [
      "CatBoost rmse:  16.680498705999515\n"
     ]
    }
   ],
   "source": [
    "print('CatBoost rmse: ',rmse(y_val, model.predict(val_pool)))"
   ]
  },
  {
   "cell_type": "markdown",
   "metadata": {},
   "source": [
    "At the validation data CatBoost shows better metric then other models.\n",
    "\n",
    "Therefore I'll save model params to the file in order to train model with these parameters on all data in future.\n"
   ]
  },
  {
   "cell_type": "code",
   "execution_count": 111,
   "metadata": {},
   "outputs": [],
   "source": [
    "import pickle\n",
    "\n",
    "with open('../../config/model_params.pkl', 'wb') as f:\n",
    "    pickle.dump(best_params, f)"
   ]
  }
 ],
 "metadata": {
  "kernelspec": {
   "display_name": "Python 3.9.12 ('beerbitterregressor-QukmGl10-py3.9')",
   "language": "python",
   "name": "python3"
  },
  "language_info": {
   "codemirror_mode": {
    "name": "ipython",
    "version": 3
   },
   "file_extension": ".py",
   "mimetype": "text/x-python",
   "name": "python",
   "nbconvert_exporter": "python",
   "pygments_lexer": "ipython3",
   "version": "3.9.12"
  },
  "orig_nbformat": 4,
  "vscode": {
   "interpreter": {
    "hash": "0289347b8c65a3d50a8e3c11444ea205f94889a3eb8dce081a557a58212c0b5c"
   }
  }
 },
 "nbformat": 4,
 "nbformat_minor": 2
}
